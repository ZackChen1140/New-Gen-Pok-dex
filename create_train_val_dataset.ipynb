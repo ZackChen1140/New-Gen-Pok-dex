{
 "cells": [
  {
   "cell_type": "code",
   "execution_count": 2,
   "metadata": {},
   "outputs": [],
   "source": [
    "import os\n",
    "import csv\n",
    "import numpy as np\n",
    "\n",
    "import torch\n",
    "import torch.nn as nn\n",
    "import torchvision\n",
    "from torchvision import transforms\n",
    "from torch.utils.data import DataLoader, random_split\n",
    "from torchvision.datasets import ImageFolder\n",
    "import torch.optim as optim\n",
    "import torchvision.models as models\n",
    "from torch.utils.data import Subset\n",
    "\n",
    "import pandas as pd\n",
    "from PIL import Image"
   ]
  },
  {
   "cell_type": "code",
   "execution_count": 3,
   "metadata": {},
   "outputs": [],
   "source": [
    "train_dir = 'pokemon_gen8&9'"
   ]
  },
  {
   "cell_type": "code",
   "execution_count": 7,
   "metadata": {},
   "outputs": [],
   "source": [
    "dataset = ImageFolder(root=train_dir, transform=transforms.Compose([transforms.Resize((224, 224)),transforms.ToTensor()]))\n",
    "\n",
    "num_classes = len(dataset.classes)\n",
    "class_counts = [0] * num_classes\n",
    "class_indices = [[] for _ in range(num_classes)]\n",
    "\n",
    "for idx, (data, target) in enumerate(dataset):\n",
    "    class_indices[target].append(idx)\n",
    "    class_counts[target] += 1\n",
    "\n",
    "train_indices = []\n",
    "val_indices = []\n",
    "test_indices = []\n",
    "\n",
    "for indices in class_indices:\n",
    "    split_idx = int(0.8 * len(indices))\n",
    "    split_idx2 = int(0.9 * len(indices))\n",
    "    train_indices.extend(indices[:split_idx])\n",
    "    val_indices.extend(indices[split_idx:split_idx2])\n",
    "    test_indices.extend(indices[split_idx2:])\n",
    "    \n",
    "train_dataset = Subset(dataset, train_indices)\n",
    "val_dataset = Subset(dataset, val_indices)\n",
    "test_dataset = Subset(dataset, test_indices)"
   ]
  },
  {
   "cell_type": "code",
   "execution_count": 10,
   "metadata": {},
   "outputs": [],
   "source": [
    "train_images = [dataset.imgs[indice][0].replace('\\\\','/') for indice in train_dataset.indices]\n",
    "train_labels = [dataset.imgs[indice][1] for indice in train_dataset.indices]\n",
    "train_dic = {'image_path': train_images, 'label': train_labels}\n",
    "train_df = pd.DataFrame(train_dic)\n",
    "\n",
    "val_images = [dataset.imgs[indice][0].replace('\\\\','/') for indice in val_dataset.indices]\n",
    "val_labels = [dataset.imgs[indice][1] for indice in val_dataset.indices]\n",
    "val_dic = {'image_path': val_images, 'label': val_labels}\n",
    "val_df = pd.DataFrame(val_dic)\n",
    "\n",
    "test_images = [dataset.imgs[indice][0].replace('\\\\','/') for indice in test_dataset.indices]\n",
    "test_labels = [dataset.imgs[indice][1] for indice in test_dataset.indices]\n",
    "test_dic = {'image_path': test_images, 'label': test_labels}\n",
    "test_df = pd.DataFrame(test_dic)"
   ]
  },
  {
   "cell_type": "code",
   "execution_count": 11,
   "metadata": {},
   "outputs": [],
   "source": [
    "train_csv_path = \"pokemon_gen8&9_trainvaltest/pokemon8&9_train.csv\"\n",
    "train_df.to_csv(train_csv_path, index=False)\n",
    "\n",
    "val_csv_path = \"pokemon_gen8&9_trainvaltest/pokemon8&9_val.csv\"\n",
    "val_df.to_csv(val_csv_path, index=False)\n",
    "\n",
    "test_csv_path = \"pokemon_gen8&9_trainvaltest/pokemon8&9_test.csv\"\n",
    "test_df.to_csv(test_csv_path, index=False)"
   ]
  }
 ],
 "metadata": {
  "kernelspec": {
   "display_name": "summercourse",
   "language": "python",
   "name": "python3"
  },
  "language_info": {
   "codemirror_mode": {
    "name": "ipython",
    "version": 3
   },
   "file_extension": ".py",
   "mimetype": "text/x-python",
   "name": "python",
   "nbconvert_exporter": "python",
   "pygments_lexer": "ipython3",
   "version": "3.8.19"
  }
 },
 "nbformat": 4,
 "nbformat_minor": 2
}
